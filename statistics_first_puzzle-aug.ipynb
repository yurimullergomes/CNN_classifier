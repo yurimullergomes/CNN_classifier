{
 "cells": [
  {
   "cell_type": "code",
   "execution_count": 1,
   "metadata": {
    "hideCode": false,
    "hidePrompt": false
   },
   "outputs": [],
   "source": [
    "#Yuri Muller PLumm Gomes\n",
    "#PhD student at CBPF\n",
    "#yurimullergomes@gmail.com"
   ]
  },
  {
   "cell_type": "code",
   "execution_count": null,
   "metadata": {
    "hideCode": false,
    "hidePrompt": false
   },
   "outputs": [
    {
     "name": "stderr",
     "output_type": "stream",
     "text": [
      "c:\\programdata\\anaconda3\\lib\\site-packages\\h5py\\__init__.py:34: FutureWarning: Conversion of the second argument of issubdtype from `float` to `np.floating` is deprecated. In future, it will be treated as `np.float64 == np.dtype(float).type`.\n",
      "  from ._conv import register_converters as _register_converters\n"
     ]
    }
   ],
   "source": [
    "import tensorflow as tf\n",
    "import pickle\n",
    "import numpy as np\n",
    "import pandas as pd\n",
    "from scipy import interp\n",
    "import matplotlib.pyplot as plt\n",
    "from itertools import cycle\n",
    "from sklearn.metrics import roc_curve, auc\n",
    "%matplotlib inline\n",
    "\n",
    "pickle_in = open(\"Xaug.pickle\",\"rb\")\n",
    "X = pickle.load(pickle_in)\n",
    "\n",
    "pickle_in = open(\"yaug.pickle\",\"rb\")\n",
    "y0 = pickle.load(pickle_in)\n",
    "\n",
    "X = np.array(X)/255.0 #normalizing data\n",
    "\n",
    "y = np.array(y0)\n",
    "\n"
   ]
  },
  {
   "cell_type": "code",
   "execution_count": null,
   "metadata": {
    "hideCode": false,
    "hidePrompt": false
   },
   "outputs": [],
   "source": [
    "stat_df_x = pd.DataFrame({'X_d': [X[i] for i in range(len(X))] })\n",
    "stat_df_y = pd.DataFrame({'y_data': y })\n",
    "\n",
    "df_final_st = pd.concat([stat_df_y,stat_df_x], axis=1)\n",
    "df_final_st.head()"
   ]
  },
  {
   "cell_type": "markdown",
   "metadata": {
    "hideCode": false,
    "hidePrompt": false
   },
   "source": [
    "# Load the model"
   ]
  },
  {
   "cell_type": "code",
   "execution_count": null,
   "metadata": {
    "hideCode": false,
    "hidePrompt": false
   },
   "outputs": [],
   "source": [
    "new_model = tf.keras.models.load_model('first-puzzle-aug-3cnn-dr.model') #loading the model"
   ]
  },
  {
   "cell_type": "markdown",
   "metadata": {
    "hideCode": false,
    "hidePrompt": false
   },
   "source": [
    "# shuffling the data \n",
    "# making predictions of the shuffled x_test\n",
    "# changing the threshold of probability\n",
    "# counting True positives (tp), fp, tn, fn and evaluating the TPR, FPR rates "
   ]
  },
  {
   "cell_type": "code",
   "execution_count": 5,
   "metadata": {},
   "outputs": [],
   "source": [
    "TPR = {}\n",
    "FPR = {}\n",
    "\n",
    "df_final_st = df_final_st.sample(frac=1).reset_index(drop=True)  #shuffle the rows only\n",
    "df = 10\n",
    "X_u = df_final_st['X_d']\n",
    "y_u = df_final_st['y_data']\n",
    "X_test = np.array([X_u[j] for j in range((len(X)//df))])\n",
    "X_train = np.array([X_u[j] for j in range((len(X)//df),len(X))])#\n",
    "\n",
    "y_test = np.array([y_u[j] for j in range((len(y)//df))])\n",
    "y_train = np.array([y_u[j] for j in range((len(y)//df),len(y))])"
   ]
  },
  {
   "cell_type": "code",
   "execution_count": 6,
   "metadata": {},
   "outputs": [],
   "source": [
    "predictions = new_model.predict(X_test)"
   ]
  },
  {
   "cell_type": "code",
   "execution_count": 7,
   "metadata": {},
   "outputs": [],
   "source": [
    "df = pd.DataFrame({'y_test': y_test})\n",
    "y_pred = [np.argmax(predictions[j]) for j in range(len(y_test))]\n",
    "y_prob = [predictions[j][np.argmax(predictions[j])] for j in range(len(y_test))]\n",
    "\n",
    "pd_y_test = pd.DataFrame({'y_test':y_test})\n",
    "pd_y_prob = pd.DataFrame({'y_prob':y_prob})\n",
    "pd_y_pred = pd.DataFrame({'y_pred':y_pred})\n",
    "\n",
    "df_final = pd.concat([pd_y_pred, pd_y_test,pd_y_prob], axis=1)\n",
    "\n",
    "#evaluating the completeness\n",
    "\n",
    "df_final_0 = df_final[df_final['y_test'] == 0]\n",
    "df_final_1 = df_final[df_final['y_test'] == 1]\n",
    "df_final_2 = df_final[df_final['y_test'] == 2]\n",
    "\n",
    "n0 = df_final_0[df_final_0.y_pred == 0]    # correct predictions for class-0 / threshold=0\n",
    "n1 = df_final_1[df_final_1.y_pred == 1]    # correct predictions for class-1 / threshold=0\n",
    "n2 = df_final_2[df_final_2.y_pred == 2]    # correct predictions for class-2 / threshold=0\n",
    "\n"
   ]
  },
  {
   "cell_type": "code",
   "execution_count": 9,
   "metadata": {},
   "outputs": [],
   "source": [
    "shift = int(50)\n",
    "threshold = [j/shift for j in range(shift+1)]\n",
    "count_0_ROC = []\n",
    "count_1_ROC = []\n",
    "count_2_ROC = []\n",
    "countf_0_ROC = []\n",
    "countf_1_ROC = []\n",
    "countf_2_ROC = []\n",
    "for thr in threshold:\n",
    "   #count the True positive of class-0,1, and 2 :\n",
    "    n0tp_ROC = n0[n0.y_prob > thr].count()        \n",
    "    n1tp_ROC = n1[n1.y_prob > thr].count()        \n",
    "    n2tp_ROC = n2[n2.y_prob > thr].count()        \n",
    "\n",
    "    #count the False negative of class-0,1 and 2:\n",
    "    n0fn_ROC = n0[n0.y_prob < thr].count()              \n",
    "    n1fn_ROC = n1[n1.y_prob < thr].count()             \n",
    "    n2fn_ROC = n2[n2.y_prob < thr].count()             \n",
    "\n",
    "    # false positive for class-0,1 and 2:\n",
    "    n0fp_ROC = df_final_0[(df_final_0.y_pred != 0) & (df_final_0.y_prob > thr)].count()\n",
    "    n1fp_ROC = df_final_1[(df_final_1.y_pred != 1) & (df_final_1.y_prob > thr)].count()  \n",
    "    n2fp_ROC = df_final_2[(df_final_2.y_pred != 2) & (df_final_2.y_prob > thr)].count()  \n",
    "\n",
    "   # true negative for class-0,1 and 2:\n",
    "    n0tn_ROC = df_final_0[(df_final_0.y_pred != 0) & (df_final_0.y_prob < thr)].count()\n",
    "    n1tn_ROC = df_final_1[(df_final_1.y_pred != 1) & (df_final_1.y_prob < thr)].count() \n",
    "    n2tn_ROC = df_final_2[(df_final_2.y_pred != 2) & (df_final_2.y_prob < thr)].count() \n",
    "\n",
    "   #creating a list with the results for TPR and FPR:\n",
    "    count_0_ROC.append(n0tp_ROC[0]/(n0tp_ROC[0] + n0fn_ROC[0]))     #TPR = true positive / (true positive + true negative)  \n",
    "    count_1_ROC.append(n1tp_ROC[0]/(n1tp_ROC[0] + n1fn_ROC[0]))\n",
    "    count_2_ROC.append(n2tp_ROC[0]/(n2tp_ROC[0] + n2fn_ROC[0]))\n",
    "\n",
    "    countf_0_ROC.append(n0fp_ROC[0]/(n0tn_ROC[0] + n0fp_ROC[0]))   #FPR = false positive/(false negative + false positive)\n",
    "    countf_1_ROC.append(n1fp_ROC[0]/(n1tn_ROC[0] + n1fp_ROC[0])) \n",
    "    countf_2_ROC.append(n2fp_ROC[0]/(n2fn_ROC[0] + n2fp_ROC[0]))     \n",
    "\n",
    "\n",
    "    TPR = [count_0_ROC,count_1_ROC,count_2_ROC]\n",
    "    FPR = [countf_0_ROC,countf_1_ROC,countf_2_ROC]\n"
   ]
  },
  {
   "cell_type": "markdown",
   "metadata": {
    "hideCode": false,
    "hidePrompt": false
   },
   "source": [
    "# saving the resulting TPR and FPR rates"
   ]
  },
  {
   "cell_type": "code",
   "execution_count": 10,
   "metadata": {},
   "outputs": [],
   "source": [
    "#saving df_final\n",
    "\n",
    "import pickle\n",
    "\n",
    "pickle_out = open(\"TPR_aug_dr.pickle\",\"wb\")\n",
    "pickle.dump(TPR, pickle_out)\n",
    "pickle_out.close()\n",
    "\n",
    "pickle_out = open(\"FPR_aug_dr.pickle\",\"wb\")\n",
    "pickle.dump(FPR, pickle_out)\n",
    "pickle_out.close()"
   ]
  },
  {
   "cell_type": "markdown",
   "metadata": {
    "hideCode": false,
    "hidePrompt": false
   },
   "source": [
    "# Loading the TPR/FPR rates :"
   ]
  },
  {
   "cell_type": "code",
   "execution_count": 90,
   "metadata": {
    "hideCode": false,
    "hidePrompt": false
   },
   "outputs": [],
   "source": [
    "import tensorflow as tf\n",
    "import pickle\n",
    "import numpy as np\n",
    "import pandas as pd\n",
    "from scipy import interp\n",
    "import matplotlib.pyplot as plt\n",
    "from itertools import cycle\n",
    "from sklearn.metrics import roc_curve, auc\n",
    "import pickle\n",
    "%matplotlib inline\n",
    "\n",
    "pickle_in = open(\"TPR_aug_dr.pickle\",\"rb\")\n",
    "df_TPR = pickle.load(pickle_in)\n",
    "pickle_in = open(\"FPR_aug_dr.pickle\",\"rb\")\n",
    "df_FPR = pickle.load(pickle_in)"
   ]
  },
  {
   "cell_type": "code",
   "execution_count": 91,
   "metadata": {
    "hideCode": false,
    "hidePrompt": false
   },
   "outputs": [],
   "source": [
    "Col = ['TPR0','TPR1','TPR2']\n",
    "Col1 = ['FPR0','FPR1','FPR2']\n",
    "\n",
    "df_TPR_new = {}\n",
    "df_FPR_new = {}\n",
    "for i in range(len(Col)):\n",
    "    df_TPR_new[i] = df_TPR[i]\n",
    "    df_FPR_new[i] = df_FPR[i]\n",
    "\n",
    "df_TPR_tr = pd.DataFrame(df_TPR_new)\n",
    "df_FPR_tr = pd.DataFrame(df_FPR_new)\n",
    "#df_TPR.columns = ['TPR'+str(i) for i in range(shift+1)]\n",
    "#df_FPR.columns = ['FPR'+str(i) for i in range(shift+1)]\n"
   ]
  },
  {
   "cell_type": "code",
   "execution_count": 93,
   "metadata": {
    "hideCode": false,
    "hidePrompt": false
   },
   "outputs": [
    {
     "data": {
      "text/html": [
       "<div>\n",
       "<style>\n",
       "    .dataframe thead tr:only-child th {\n",
       "        text-align: right;\n",
       "    }\n",
       "\n",
       "    .dataframe thead th {\n",
       "        text-align: left;\n",
       "    }\n",
       "\n",
       "    .dataframe tbody tr th {\n",
       "        vertical-align: top;\n",
       "    }\n",
       "</style>\n",
       "<table border=\"1\" class=\"dataframe\">\n",
       "  <thead>\n",
       "    <tr style=\"text-align: right;\">\n",
       "      <th></th>\n",
       "      <th>0</th>\n",
       "      <th>1</th>\n",
       "      <th>2</th>\n",
       "    </tr>\n",
       "  </thead>\n",
       "  <tbody>\n",
       "    <tr>\n",
       "      <th>0</th>\n",
       "      <td>1.000000</td>\n",
       "      <td>1.000000</td>\n",
       "      <td>1.000000</td>\n",
       "    </tr>\n",
       "    <tr>\n",
       "      <th>1</th>\n",
       "      <td>0.823256</td>\n",
       "      <td>0.755319</td>\n",
       "      <td>0.748159</td>\n",
       "    </tr>\n",
       "    <tr>\n",
       "      <th>2</th>\n",
       "      <td>0.759690</td>\n",
       "      <td>0.681611</td>\n",
       "      <td>0.663476</td>\n",
       "    </tr>\n",
       "    <tr>\n",
       "      <th>3</th>\n",
       "      <td>0.729457</td>\n",
       "      <td>0.642857</td>\n",
       "      <td>0.611193</td>\n",
       "    </tr>\n",
       "    <tr>\n",
       "      <th>4</th>\n",
       "      <td>0.706977</td>\n",
       "      <td>0.606383</td>\n",
       "      <td>0.581738</td>\n",
       "    </tr>\n",
       "  </tbody>\n",
       "</table>\n",
       "</div>"
      ],
      "text/plain": [
       "          0         1         2\n",
       "0  1.000000  1.000000  1.000000\n",
       "1  0.823256  0.755319  0.748159\n",
       "2  0.759690  0.681611  0.663476\n",
       "3  0.729457  0.642857  0.611193\n",
       "4  0.706977  0.606383  0.581738"
      ]
     },
     "execution_count": 93,
     "metadata": {},
     "output_type": "execute_result"
    }
   ],
   "source": [
    "\n",
    "#df_TPR_tr = df_TPR.transpose()\n",
    "#df_FPR_tr = df_FPR.transpose()\n",
    "\n",
    "df_TPR_tr.head()"
   ]
  },
  {
   "cell_type": "code",
   "execution_count": 97,
   "metadata": {},
   "outputs": [
    {
     "data": {
      "text/plain": [
       "0.6111929307805597"
      ]
     },
     "execution_count": 97,
     "metadata": {},
     "output_type": "execute_result"
    }
   ],
   "source": [
    "df_TPR_tr[2][3]"
   ]
  },
  {
   "cell_type": "code",
   "execution_count": 98,
   "metadata": {},
   "outputs": [],
   "source": [
    "TPR0 = [df_TPR_tr[0][i] for i in range(shift)],[df_TPR_tr[1][i] for i in range(shift)],[df_TPR_tr[2][i] for i in range(shift)]\n",
    "FPR0 = [df_FPR_tr[0][i] for i in range(shift)],[df_FPR_tr[1][i] for i in range(shift)],[df_FPR_tr[2][i] for i in range(shift)]\n"
   ]
  },
  {
   "cell_type": "code",
   "execution_count": 100,
   "metadata": {},
   "outputs": [
    {
     "data": {
      "text/plain": [
       "<matplotlib.text.Text at 0x196bc9c9b00>"
      ]
     },
     "execution_count": 100,
     "metadata": {},
     "output_type": "execute_result"
    },
    {
     "data": {
      "image/png": "[encoded data removed]",
      "text/plain": [
       "<matplotlib.figure.Figure at 0x196bc9972e8>"
      ]
     },
     "metadata": {},
     "output_type": "display_data"
    }
   ],
   "source": [
    "colors = ['g','r','b']\n",
    "markers = ['graduation','picnic','meeting']\n",
    "for j in range(len(markers)):\n",
    "    plt.plot(FPR0[j], TPR0[j],label= markers[j],alpha=1, color = colors[j])\n",
    "    plt.legend(loc='lower right',fontsize=10)\n",
    "plt.xlabel('f%')\n",
    "plt.ylabel('C%')"
   ]
  },
  {
   "cell_type": "code",
   "execution_count": null,
   "metadata": {},
   "outputs": [],
   "source": [
    "# daqui pra baixo está errado"
   ]
  },
  {
   "cell_type": "code",
   "execution_count": 1,
   "metadata": {
    "hideCode": false,
    "hidePrompt": false
   },
   "outputs": [
    {
     "ename": "NameError",
     "evalue": "name 'markers' is not defined",
     "output_type": "error",
     "traceback": [
      "\u001b[1;31m---------------------------------------------------------------------------\u001b[0m",
      "\u001b[1;31mNameError\u001b[0m                                 Traceback (most recent call last)",
      "\u001b[1;32m<ipython-input-1-431d58e4fe80>\u001b[0m in \u001b[0;36m<module>\u001b[1;34m()\u001b[0m\n\u001b[0;32m      1\u001b[0m \u001b[0mTPR\u001b[0m \u001b[1;33m=\u001b[0m \u001b[1;33m{\u001b[0m\u001b[1;33m}\u001b[0m\u001b[1;33m\u001b[0m\u001b[0m\n\u001b[0;32m      2\u001b[0m \u001b[0mFPR\u001b[0m \u001b[1;33m=\u001b[0m \u001b[1;33m{\u001b[0m\u001b[1;33m}\u001b[0m\u001b[1;33m\u001b[0m\u001b[0m\n\u001b[1;32m----> 3\u001b[1;33m \u001b[1;32mfor\u001b[0m \u001b[0mi\u001b[0m \u001b[1;32min\u001b[0m \u001b[0mrange\u001b[0m\u001b[1;33m(\u001b[0m\u001b[0mlen\u001b[0m\u001b[1;33m(\u001b[0m\u001b[0mmarkers\u001b[0m\u001b[1;33m)\u001b[0m\u001b[1;33m)\u001b[0m\u001b[1;33m:\u001b[0m\u001b[1;33m\u001b[0m\u001b[0m\n\u001b[0m\u001b[0;32m      4\u001b[0m     \u001b[0mprint\u001b[0m\u001b[1;33m(\u001b[0m\u001b[0mi\u001b[0m\u001b[1;33m)\u001b[0m\u001b[1;33m\u001b[0m\u001b[0m\n\u001b[0;32m      5\u001b[0m     \u001b[0mdf_final_st\u001b[0m \u001b[1;33m=\u001b[0m \u001b[0mdf_final_st\u001b[0m\u001b[1;33m.\u001b[0m\u001b[0msample\u001b[0m\u001b[1;33m(\u001b[0m\u001b[0mfrac\u001b[0m\u001b[1;33m=\u001b[0m\u001b[1;36m1\u001b[0m\u001b[1;33m)\u001b[0m\u001b[1;33m.\u001b[0m\u001b[0mreset_index\u001b[0m\u001b[1;33m(\u001b[0m\u001b[0mdrop\u001b[0m\u001b[1;33m=\u001b[0m\u001b[1;32mTrue\u001b[0m\u001b[1;33m)\u001b[0m  \u001b[1;31m#shuffle the rows only\u001b[0m\u001b[1;33m\u001b[0m\u001b[0m\n",
      "\u001b[1;31mNameError\u001b[0m: name 'markers' is not defined"
     ]
    }
   ],
   "source": [
    "TPR = {}\n",
    "FPR = {}\n",
    "for i in range(len(markers)):\n",
    "    print(i)\n",
    "    df_final_st = df_final_st.sample(frac=1).reset_index(drop=True)  #shuffle the rows only\n",
    "    df = 10\n",
    "    X_u = df_final_st['X_d']\n",
    "    y_u = df_final_st['y_data']\n",
    "    X_test = np.array([X_u[j] for j in range((len(X)//df))])\n",
    "    X_train = np.array([X_u[j] for j in range((len(X)//df),len(X))])#\n",
    "\n",
    "    y_test = np.array([y_u[j] for j in range((len(y)//df))])\n",
    "    y_train = np.array([y_u[j] for j in range((len(y)//df),len(y))])\n",
    "\n",
    "    predictions = new_model.predict(X_test)\n",
    "\n",
    "    df = pd.DataFrame({'y_test': y_test})\n",
    "    #creating a array with the predictions\n",
    "    y_pred = [np.argmax(predictions[j]) for j in range(len(y_test))]\n",
    "    y_prob = [predictions[j][np.argmax(predictions[j])] for j in range(len(y_test))]\n",
    "\n",
    "    pd_y_test = pd.DataFrame({'y_test':y_test})\n",
    "    pd_y_prob = pd.DataFrame({'y_prob':y_prob})\n",
    "    pd_y_pred = pd.DataFrame({'y_pred':y_pred})\n",
    "\n",
    "    df_final = pd.concat([pd_y_pred, pd_y_test,pd_y_prob], axis=1)\n",
    "\n",
    "    #evaluating the completeness\n",
    "\n",
    "    df_final_0 = df_final[df_final['y_test'] == 0]\n",
    "    df_final_1 = df_final[df_final['y_test'] == 1]\n",
    "    df_final_2 = df_final[df_final['y_test'] == 2]\n",
    "\n",
    "    n0 = df_final_0[df_final_0.y_pred == 0]    # correct predictions for class-0 / threshold=0\n",
    "    n1 = df_final_1[df_final_1.y_pred == 1]    # correct predictions for class-1 / threshold=0\n",
    "    n2 = df_final_2[df_final_2.y_pred == 2]    # correct predictions for class-2 / threshold=0\n",
    "\n",
    "    shift = 20\n",
    "    threshold = [j/shift for j in range(shift+1)]\n",
    "    count_0_ROC = []\n",
    "    count_1_ROC = []\n",
    "    count_2_ROC = []\n",
    "    countf_0_ROC = []\n",
    "    countf_1_ROC = []\n",
    "    countf_2_ROC = []\n",
    "    for thr in threshold:\n",
    "       #count the True positive of class-0,1, and 2 :\n",
    "        n0tp_ROC = n0[n0.y_prob > thr].count()        \n",
    "        n1tp_ROC = n1[n1.y_prob > thr].count()        \n",
    "        n2tp_ROC = n2[n2.y_prob > thr].count()        \n",
    "\n",
    "        #count the False negative of class-0,1 and 2:\n",
    "        n0fn_ROC = n0[n0.y_prob < thr].count()              \n",
    "        n1fn_ROC = n1[n1.y_prob < thr].count()             \n",
    "        n2fn_ROC = n2[n2.y_prob < thr].count()             \n",
    "\n",
    "        # false positive for class-0,1 and 2:\n",
    "        n0fp_ROC = df_final_0[(df_final_0.y_pred != 0) & (df_final_0.y_prob > thr)].count()\n",
    "        n1fp_ROC = df_final_1[(df_final_1.y_pred != 1) & (df_final_1.y_prob > thr)].count()  \n",
    "        n2fp_ROC = df_final_2[(df_final_2.y_pred != 2) & (df_final_2.y_prob > thr)].count()  \n",
    "\n",
    "       # true negative for class-0,1 and 2:\n",
    "        n0tn_ROC = df_final_0[(df_final_0.y_pred != 0) & (df_final_0.y_prob < thr)].count()\n",
    "        n1tn_ROC = df_final_1[(df_final_1.y_pred != 1) & (df_final_1.y_prob < thr)].count() \n",
    "        n2tn_ROC = df_final_2[(df_final_2.y_pred != 2) & (df_final_2.y_prob < thr)].count() \n",
    "\n",
    "       #creating a list with the results for TPR and FPR:\n",
    "        count_0_ROC.append(n0tp_ROC[0]/(n0tp_ROC[0] + n0fn_ROC[0]))     #TPR = true positive / (true positive + true negative)  \n",
    "        count_1_ROC.append(n1tp_ROC[0]/(n1tp_ROC[0] + n1fn_ROC[0]))\n",
    "        count_2_ROC.append(n2tp_ROC[0]/(n2tp_ROC[0] + n2fn_ROC[0]))\n",
    "\n",
    "        countf_0_ROC.append(n0fp_ROC[0]/(n0tn_ROC[0] + n0fp_ROC[0]))   #FPR = false positive/(false negative + false positive)\n",
    "        countf_1_ROC.append(n1fp_ROC[0]/(n1tn_ROC[0] + n1fp_ROC[0])) \n",
    "        countf_2_ROC.append(n2fp_ROC[0]/(n2tn_ROC[0] + n2fp_ROC[0]))     \n",
    "\n",
    "\n",
    "        TPR[i] = [count_0_ROC,count_1_ROC,count_2_ROC]\n",
    "        FPR[i] = [countf_0_ROC,countf_1_ROC,countf_2_ROC]"
   ]
  },
  {
   "cell_type": "code",
   "execution_count": 133,
   "metadata": {
    "hideCode": false,
    "hidePrompt": false
   },
   "outputs": [],
   "source": [
    "\n",
    "df_TPR0 = pd.DataFrame(TPR)\n",
    "df_FPR0 = pd.DataFrame(FPR)\n",
    "\n",
    "#import pickle\n",
    "\n",
    "pickle_out = open(\"TPR_aug_dr.pickle\",\"wb\")\n",
    "pickle.dump(df_TPR0, pickle_out)\n",
    "pickle_out.close()\n",
    "\n",
    "pickle_out = open(\"FPR_aug_dr.pickle\",\"wb\")\n",
    "pickle.dump(df_FPR0, pickle_out)\n",
    "pickle_out.close()"
   ]
  },
  {
   "cell_type": "code",
   "execution_count": 134,
   "metadata": {},
   "outputs": [],
   "source": [
    "pickle_in = open(\"TPR_aug_dr.pickle\",\"rb\")\n",
    "df_TPR = pickle.load(pickle_in)\n",
    "pickle_in = open(\"FPR_aug_dr.pickle\",\"rb\")\n",
    "df_FPR = pickle.load(pickle_in)\n",
    "\n",
    "df_TPR_tr = df_TPR.transpose()\n",
    "df_FPR_tr = df_FPR.transpose()"
   ]
  },
  {
   "cell_type": "code",
   "execution_count": 137,
   "metadata": {},
   "outputs": [],
   "source": [
    "#df_TPR_tr[2][0]"
   ]
  },
  {
   "cell_type": "code",
   "execution_count": 138,
   "metadata": {
    "hideCode": false,
    "hidePrompt": false
   },
   "outputs": [],
   "source": [
    "TPR_med_0 = [[df_TPR_tr[0][i][j] for i in range(2)] for j in range(10)]\n",
    "TPR_med_1 = [[df_TPR_tr[1][i][j] for i in range(2)] for j in range(10)]\n",
    "TPR_med_2 = [[df_TPR_tr[2][i][j] for i in range(2)] for j in range(10)]\n",
    "\n",
    "FPR_med_0 = [[df_FPR_tr[0][i][j] for i in range(2)] for j in range(10)]\n",
    "FPR_med_1 = [[df_FPR_tr[1][i][j] for i in range(2)] for j in range(10)]\n",
    "FPR_med_2 = [[df_FPR_tr[2][i][j] for i in range(2)] for j in range(10)]\n"
   ]
  },
  {
   "cell_type": "markdown",
   "metadata": {
    "hideCode": false,
    "hidePrompt": false
   },
   "source": [
    "# Median: "
   ]
  },
  {
   "cell_type": "code",
   "execution_count": 139,
   "metadata": {
    "hideCode": false,
    "hidePrompt": false
   },
   "outputs": [],
   "source": [
    "#median\n",
    "TPR_0 =[1/len(TPR_med_0[i])*sum(TPR_med_0[i]) for i in range(int(len(TPR_med_0[i])))]\n",
    "TPR_1 =[1/len(TPR_med_0[i])*sum(TPR_med_1[i]) for i in range(int(len(TPR_med_0[i])))]\n",
    "TPR_2 =[1/len(TPR_med_0[i])*sum(TPR_med_2[i]) for i in range(int(len(TPR_med_0[i])))]\n",
    "\n",
    "FPR_0 =[1/len(FPR_med_0[i])*sum(FPR_med_0[i]) for i in range(int(len(TPR_med_0[i])))]\n",
    "FPR_1 =[1/len(FPR_med_0[i])*sum(FPR_med_1[i]) for i in range(int(len(TPR_med_0[i])))]\n",
    "FPR_2 =[1/len(FPR_med_0[i])*sum(FPR_med_2[i]) for i in range(int(len(TPR_med_0[i])))]\n",
    "\n",
    "TPR=[TPR_0,TPR_1,TPR_2]\n",
    "FPR=[FPR_0,FPR_1,FPR_2]"
   ]
  },
  {
   "cell_type": "markdown",
   "metadata": {
    "hideCode": false,
    "hidePrompt": false
   },
   "source": [
    "# Standard deviation:"
   ]
  },
  {
   "cell_type": "code",
   "execution_count": 140,
   "metadata": {
    "hideCode": false,
    "hidePrompt": false
   },
   "outputs": [],
   "source": [
    "\n",
    "TPR_0_std =[np.std(TPR_med_0[i]) for i in range(int(len(TPR_med_0[i])))]\n",
    "TPR_1_std =[np.std(TPR_med_1[i]) for i in range(int(len(TPR_med_0[i])))]\n",
    "TPR_2_std =[np.std(TPR_med_2[i]) for i in range(int(len(TPR_med_0[i])))]\n",
    "\n",
    "FPR_0_std =[np.std(FPR_med_0[i]) for i in range(int(len(TPR_med_0[i])))]\n",
    "FPR_1_std =[np.std(FPR_med_1[i]) for i in range(int(len(TPR_med_0[i])))]\n",
    "FPR_2_std =[np.std(FPR_med_2[i]) for i in range(int(len(TPR_med_0[i])))]\n",
    "\n",
    "\n",
    "TPR_std=[TPR_0_std,TPR_1_std,TPR_2_std]\n",
    "FPR_std=[FPR_0_std,FPR_1_std,FPR_2_std]"
   ]
  },
  {
   "cell_type": "code",
   "execution_count": 141,
   "metadata": {
    "hideCode": false,
    "hidePrompt": false
   },
   "outputs": [],
   "source": [
    "#import seaborn as sns\n",
    "#sns.set()"
   ]
  },
  {
   "cell_type": "markdown",
   "metadata": {
    "hideCode": false,
    "hidePrompt": false
   },
   "source": [
    "# Fit and plots "
   ]
  },
  {
   "cell_type": "code",
   "execution_count": 142,
   "metadata": {
    "hideCode": false,
    "hidePrompt": false
   },
   "outputs": [
    {
     "name": "stderr",
     "output_type": "stream",
     "text": [
      "c:\\programdata\\anaconda3\\lib\\site-packages\\scipy\\optimize\\minpack.py:779: OptimizeWarning: Covariance of the parameters could not be estimated\n",
      "  category=OptimizeWarning)\n"
     ]
    }
   ],
   "source": [
    "from pylab import *\n",
    "from scipy.optimize import curve_fit\n",
    "\n",
    "nstd = int(1) # to draw x-sigma intervals\n",
    "k = 1\n",
    "def func(x,b,a ):\n",
    "\n",
    "    return(np.tanh(b*x + a))\n",
    "\n",
    "x_0 = np.array(FPR[0])\n",
    "x_1 = np.array(FPR[1])\n",
    "x_2 = np.array(FPR[2])\n",
    "\n",
    "y0_0 = np.array(TPR[0])\n",
    "y0_1 = np.array(TPR[1])\n",
    "y0_2 = np.array(TPR[2])\n",
    "\n",
    "noise_0 = np.array(TPR_std[0])\n",
    "noise_1 = np.array(TPR_std[1])\n",
    "noise_2 = np.array(TPR_std[2])\n",
    "\n",
    "y_0 = y0_0 + k*noise_0\n",
    "y_1 = y0_1 + k*noise_1\n",
    "y_2 = y0_2 + k*noise_2\n",
    "\n",
    "Yy = [y_0,y_1,y_2]\n",
    "Xx = [x_0,x_1,x_2]\n",
    "\n",
    "popt_0, pcov_0 = curve_fit(func, Xx[0], Yy[0]) # popt = (a,b) pcov = he estimated covariance of popt.\n",
    "perr_0 = np.sqrt(np.diag(pcov_0))\n",
    "popt_1, pcov_1 = curve_fit(func, Xx[1], Yy[1]) # ,sigma=1./(noise_1*noise_1)\n",
    "perr_1 = np.sqrt(np.diag(pcov_1))\n",
    "popt_2, pcov_2 = curve_fit(func, Xx[2], Yy[2]) # ,sigma=1./(noise_2*noise_2)\n",
    "perr_2 = np.sqrt(np.diag(pcov_2))\n",
    "\n"
   ]
  },
  {
   "cell_type": "code",
   "execution_count": 143,
   "metadata": {
    "hideCode": false,
    "hidePrompt": false
   },
   "outputs": [
    {
     "data": {
      "text/plain": [
       "array([11.25987438,  0.33851595])"
      ]
     },
     "execution_count": 143,
     "metadata": {},
     "output_type": "execute_result"
    }
   ],
   "source": [
    "popt_0"
   ]
  },
  {
   "cell_type": "code",
   "execution_count": 144,
   "metadata": {
    "hideCode": false,
    "hidePrompt": false
   },
   "outputs": [],
   "source": [
    "popt_up_0 = popt_0 + nstd * perr_0\n",
    "popt_dw_0 = popt_0 - nstd * perr_0\n",
    "\n",
    "popt_up_1 = popt_1 + nstd * perr_1\n",
    "popt_dw_1 = popt_1 - nstd * perr_1\n",
    "\n",
    "popt_up_2 = popt_2 + nstd * perr_2\n",
    "popt_dw_2 = popt_2 - nstd * perr_2\n",
    "\n",
    "\n",
    "\n",
    "fit_0 = func(Xx[0], *popt_0)\n",
    "fit_up_0 = func(Xx[0], *popt_up_0)\n",
    "fit_dw_0 = func(Xx[0], *popt_dw_0)\n",
    "fit_1 = func(Xx[1], *popt_1)\n",
    "fit_up_1 = func(Xx[1], *popt_up_1)\n",
    "fit_dw_1 = func(Xx[1], *popt_dw_1)\n",
    "fit_2 = func(Xx[2], *popt_2)\n",
    "fit_up_2 = func(Xx[2], *popt_up_2)\n",
    "fit_dw_2 = func(Xx[2], *popt_dw_2)\n",
    "\n",
    "\n",
    "\n",
    "\n",
    "fit = [fit_0,fit_1,fit_2]\n",
    "fit_up =[fit_up_0,fit_up_1,fit_up_2] \n",
    "fit_dw = [fit_dw_0,fit_dw_1,fit_dw_2]\n",
    "\n",
    "yerr = nstd*np.array(TPR_std)\n",
    "xerr = nstd*np.array(FPR_std)"
   ]
  },
  {
   "cell_type": "code",
   "execution_count": 146,
   "metadata": {
    "hideCode": false,
    "hidePrompt": false
   },
   "outputs": [
    {
     "data": {
      "text/plain": [
       "<matplotlib.text.Text at 0x215d7aca128>"
      ]
     },
     "execution_count": 146,
     "metadata": {},
     "output_type": "execute_result"
    },
    {
     "data": {
      "image/png": "[encoded data removed]",
      "text/plain": [
       "<matplotlib.figure.Figure at 0x215d7a7c240>"
      ]
     },
     "metadata": {},
     "output_type": "display_data"
    }
   ],
   "source": [
    "markers = ['graduation','picnic','meeting']\n",
    "bestfit = ['best fit grad','best fit pnc','best fit meet']\n",
    "color = ['g','r','b']\n",
    "\n",
    "x_lin = np.linspace(0, 1, 1000)\n",
    "\n",
    "fig, ax = plt.subplots()\n",
    "ax.plot(x_lin, x_lin, '--',color = 'gray')\n",
    "\n",
    "for j in range(len(markers)):\n",
    "    plt.plot(FPR[j], TPR[j],label= markers[j],alpha=0.2, color = color[j])\n",
    "    plt.plot(FPR[j], fit[j],label= bestfit[j],alpha=1,color = color[j])\n",
    "    plt.legend(loc='lower right',fontsize=10)\n",
    "    #ax.fill_between(FPR[j], fit_up[j], fit_dw[j], alpha=.25, label= str(nstd)+ '-sigma interval')\n",
    "    plt.errorbar(FPR[j], TPR[j], yerr = yerr[j], xerr= xerr[j],errorevery=1 , fmt='+', capthick=4)\n",
    "plt.xlabel('f%')\n",
    "plt.ylabel('C%')"
   ]
  },
  {
   "cell_type": "code",
   "execution_count": 147,
   "metadata": {
    "hideCode": false,
    "hidePrompt": false
   },
   "outputs": [
    {
     "data": {
      "text/plain": [
       "<matplotlib.text.Text at 0x215d7c05278>"
      ]
     },
     "execution_count": 147,
     "metadata": {},
     "output_type": "execute_result"
    },
    {
     "data": {
      "image/png": "[encoded data removed]",
      "text/plain": [
       "<matplotlib.figure.Figure at 0x215d7b0c400>"
      ]
     },
     "metadata": {},
     "output_type": "display_data"
    }
   ],
   "source": [
    "markers = ['graduation','picnic','meeting']\n",
    "bestfit = ['best fit grad','best fit pnc','best fit meet']\n",
    "color = ['g','r','b']\n",
    "\n",
    "x_lin = np.linspace(0, 1, 1000)\n",
    "\n",
    "fig, ax = plt.subplots()\n",
    "ax.plot(x_lin, x_lin, '--k')\n",
    "\n",
    "for j in range(len(markers)):\n",
    "    plt.plot(FPR[j], TPR[j],label= markers[j], color = color[j],alpha=0.2)\n",
    "    plt.plot(FPR[j], fit[j],label= bestfit[j],color = color[j])\n",
    "    #ax.fill_between(FPR[j], fit_up[j], fit_dw[j],alpha=1, label= str(nstd)+ '-sigma interval')\n",
    "    #errorbar(FPR[j], TPR[j], yerr = yerr[j], xerr= xerr[j] , fmt='+', capthick=4)\n",
    "plt.legend(loc='lower right',fontsize=10)\n",
    "plt.xlabel('f%')\n",
    "plt.ylabel('C%')"
   ]
  },
  {
   "cell_type": "code",
   "execution_count": 104,
   "metadata": {
    "hideCode": false,
    "hidePrompt": false
   },
   "outputs": [
    {
     "name": "stdout",
     "output_type": "stream",
     "text": [
      "AUC parameter class 0: 0.995778916730208+-3.1714147360697635e-12\n",
      "AUC parameter class 1: 0.993573845770503+-9.762913285373147e-12\n",
      "AUC parameter class 2: 0.993573845770503+-9.762913285373147e-12\n"
     ]
    }
   ],
   "source": [
    "from scipy import integrate\n",
    "\n",
    "AUC_0 = integrate.quad(func, 0, 1,args=(popt_0[0],popt_0[1]))\n",
    "AUC_1 =integrate.quad(func, 0, 1,args=(popt_1[0],popt_1[1]))\n",
    "AUC_2 = integrate.quad(func, 0, 1,args=(popt_1[0],popt_1[1]))\n",
    "print('AUC parameter class 0:',str(AUC_0[0]) + '+-' + str(AUC_0[1]) )\n",
    "print('AUC parameter class 1:',str(AUC_1[0]) + '+-' + str(AUC_1[1]) )\n",
    "print('AUC parameter class 2:',str(AUC_2[0]) + '+-' + str(AUC_2[1]) )"
   ]
  },
  {
   "cell_type": "code",
   "execution_count": 98,
   "metadata": {
    "hideCode": false,
    "hidePrompt": false
   },
   "outputs": [],
   "source": [
    "#Overfitting/overtraining in supervised learning (e.g., neural network). If the validation error increases(positive slope) \n",
    "#while the training error steadily decreases(negative slope) then a situation of overfitting may have occurred.\n",
    "#The best predictive and fitted model would be where the validation error has its global minimum."
   ]
  },
  {
   "cell_type": "code",
   "execution_count": null,
   "metadata": {
    "hideCode": false,
    "hidePrompt": false
   },
   "outputs": [],
   "source": []
  },
  {
   "cell_type": "code",
   "execution_count": null,
   "metadata": {
    "hideCode": false,
    "hidePrompt": false
   },
   "outputs": [],
   "source": []
  },
  {
   "cell_type": "code",
   "execution_count": null,
   "metadata": {
    "hideCode": false,
    "hidePrompt": false
   },
   "outputs": [],
   "source": []
  }
 ],
 "metadata": {
  "hide_code_all_hidden": false,
  "kernelspec": {
   "display_name": "Python 3",
   "language": "python",
   "name": "python3"
  },
  "language_info": {
   "codemirror_mode": {
    "name": "ipython",
    "version": 3
   },
   "file_extension": ".py",
   "mimetype": "text/x-python",
   "name": "python",
   "nbconvert_exporter": "python",
   "pygments_lexer": "ipython3",
   "version": "3.6.1"
  }
 },
 "nbformat": 4,
 "nbformat_minor": 2
}
